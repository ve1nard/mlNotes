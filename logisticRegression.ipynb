{
 "cells": [
  {
   "cell_type": "markdown",
   "metadata": {},
   "source": [
    "# Classification problem\n",
    "\n",
    "In the classification problem, the predicted value $y$ takes on discrete values. In this notebook, we cover the case of logistic regression for binary classification problem and then extended it to a multiclass scenario."
   ]
  },
  {
   "cell_type": "markdown",
   "metadata": {},
   "source": [
    "### Binary classification\n",
    "In binary classification, the predicted value is identified as belonging to either positive ($y=1$) or negative ($y=0$) class. Our classification strategy from linear regression fails here because $y = x^T\\beta \\in R$. In logistic regression, rather than directly predicting the class, we want to output the probabilities of an object belonging to any of the classes, and then make a decision by applying a particular strategy (picking the class with the highest probability in binary classification, majority voting in multiclass problem, and some others) to these probabilities.\n",
    "\n",
    "In binary classification problem, the probability of an object belonging to a negative class can be inferred from the probability of it belonging to a positive class, thus we only need to be able to output one of the probabilities from the model. \n",
    "\n",
    "Let's assume we are predicting probabilities for a positive class:\n",
    "\n",
    "$$\n",
    "p_{+} = P(y=1|x) \\in [0,1]\n",
    "$$\n",
    "\n",
    "Transforming this into the logit function\n",
    "$$\n",
    "logit(p) = log \\frac{p_{+}}{1-p_{+}} \\in R\n",
    "$$\n",
    "\n",
    "we get a quantity that can be directly predicted by $x^T\\beta$\n",
    "\n",
    "Since we want to optimize the model based on the probabilities, we obtain the inversed form:\n",
    "\n",
    "$$\n",
    "p_{+} = \\frac{1}{1+exp(-x^T\\beta)}\n",
    "$$\n",
    "\n",
    "which is the definition of the Sigmoid function:\n",
    "\n",
    "$$\n",
    "\\sigma_{\\beta}(x) = \\frac{1}{1+exp(-x^T\\beta)}\n",
    "$$\n",
    "\n",
    "Thus, $p_{+} = \\sigma_{\\beta}(x)$ and $p_{-} = 1 - \\sigma_{\\beta}(x)$, which can be expressed more compactly as \n",
    "$$\n",
    "p(y|x, \\beta) = (\\sigma_{\\beta}(x))^{y}(1-\\sigma_{\\beta}(x))^{1-y}\n",
    "$$\n",
    "\n",
    "Just like we did in Linear regression, we want to find a parameter $\\beta$ that maximizes the log-likelihood of the observed data. Assuming the objects are generated independently, we can first write down the likelihood as:\n",
    "\n",
    "$$\n",
    "L(\\beta) = p(y|X;\\beta) = \\prod_{i=1}^{n}p(y^{(i)}|x^{(i)};\\beta) = \\prod_{i=1}^{n}(\\sigma_{\\beta}(x^{(i)}))^{y^{(i)}}(1 - \\sigma_{\\beta}(x^{(i)}))^{1 - y^{(i)}}\n",
    "$$\n",
    "\n",
    "and now turning it into log-likelihood:\n",
    "$$\n",
    "l(\\beta) = log(L(\\beta)) = \\sum_{i=1}^{n}y^{(i)}log(\\sigma_{\\beta}(x^{(i)})) + (1 - y^{(i)})log(1 - \\sigma_{\\beta}(x^{(i)}))\n",
    "$$\n",
    "\n",
    "Using the fact that \n",
    "\n",
    "$$\n",
    "\\sigma^{\\prime}(x) = \\sigma(x)(1 - \\sigma(x))\n",
    "$$\n",
    "\n",
    "we can derive partial derivatives with respect to each $\\beta_{j}$:\n",
    "\n",
    "$$\n",
    "\\frac{\\partial L(\\beta)}{\\partial \\beta_{j}} = \\sum_{i=1}^{m} \\left( y^{(i)} - \\sigma_{\\beta_{j}}(x^{(i)}) \\right) x^{(i)}\n",
    "$$\n",
    "\n",
    "Then, combining the partial derivatives into the vectorized form:\n",
    "\n",
    "$$\n",
    "\\nabla_{\\beta} L(\\beta) = X^T (y - \\sigma_{\\beta})\n",
    "$$\n",
    "\n",
    "Since the goal is to maximize the log-likelihood, we resort to the gradient ascent algorithm, whose update rule is expressed as follows:\n",
    "\n",
    "$$\n",
    "\\beta^{t+1} = \\beta^{t} + \\frac{\\alpha}{n} \\nabla_{\\beta^{t}} L(\\beta^{t}) = \\beta^{t} + \\frac{\\alpha}{n} X^T (y - \\sigma_{\\beta^{t}})\n",
    "$$\n",
    "\n",
    "Such model framing in the form of a binomial distribution where the probability of sucess is given by a transformation of a linear model of predictors turns out to be an informal description of generalized linear models (GLM) family. All generalized linear models have the following characteristics ([Rundel, 2013](https://www2.stat.duke.edu/courses/Spring13/sta102.001/Lec/Lec20.pdf)):\n",
    "\n",
    "* A probability distribution describing the outcome variable \n",
    "* A linear model $\\eta = \\beta_{0} + \\beta_{1}x_{1} + \\cdots + \\beta_{n}x_{n}$ \n",
    "* A link function that relates the linear model to the parameter of the outcome distribution $g(p) = \\eta$ or $p = g^{-1}(\\eta)$\n",
    "\n",
    "Our logistic regression model satisfies these criteria:\n",
    "* $y_{i} \\sim Binom(p_{i}$)\n",
    "* $\\eta = x^T\\beta = \\beta_{0} + \\beta_{1}x_{1} + \\cdots + \\beta_{n}x_{n}$\n",
    "* $logit(p) = \\eta$"
   ]
  },
  {
   "cell_type": "markdown",
   "metadata": {},
   "source": [
    "### Multiclass classification\n",
    "The binary classifier that we developed above can be repurposed for the multiclass ($K$ possible classes) scenario following one of the two strategies: One-vs-All (OvA) or One-vs-One(OvO).\n",
    "\n",
    "#### One-vs-All\n",
    "OvA classification involves training a binary classifier for each class against the rest of the dataset, resulting in the total of $K$ classifiers. Each classifier outputs a confidence score of the instance belonging to the target class, and the class with the highest confidence score is predicted.\n",
    "\n",
    "This approach makes an assumption that each class is individually linearly separable from all the other classes. Moreover, since each classifier is trained separately on its own binary problem, the model parameters are learned based on potentially very different data distributions and class imbalances. Some classes may be inherently harder to distinguish from the others, and thus, a classifier facing a more ambiguous separation might output probabilities that cluster around the middle of the range, while a classifier for a very distinct class might output probabilities that are closer to the extremes.\n",
    "\n",
    "#### One-vs-One\n",
    "OvO classification, on the other hand, trains a binary classifier for every pair of classes (the total of $\\frac{K(K-1)}{2}$ classifiers), and the class with the most pairwise classification wins is predicted.\n",
    "\n",
    "In contrast to OvA, where the full training dataset is used to train each classifier, in One-vs-One approach, the set is subsampled to include the instances of the two target classes only for each classifier. Another difference is that, OvO classification makes an assumption that every pair of classes is linearly separable. Moreover, size of a training subset for a pair of labels could be small, leading to overfitting of the binary classifier. Finally, the huge number of classifiers requires large space to store model weights.\n",
    "\n"
   ]
  },
  {
   "cell_type": "markdown",
   "metadata": {},
   "source": [
    "### Metrics used to assess classification models\n",
    "\n",
    "Accuracy is the simplest metric that represent the ratio of the correctly classified samples to their total number. In general, accuracy is defined as:\n",
    "\n",
    "$$\n",
    "Accuracy = \\frac{1}{n}\\sum_{i=1}^{n}[y_{i}^{t} = y_{i}^{p}]\n",
    "$$\n",
    "\n",
    "where $n$ is the total number of samples and $y_{i}^{t}$ and $y_{i}^{p}$ are the true and predicted labels for sample{{ $i$, respectively.\n",
    "\n",
    "We can also define a balanced accuracy averaged over the total number of classes (instead of samples), where for each class we find the ratio of the correctly classified samples:\n",
    "\n",
    "$$\n",
    "Balanced \\ accuracy = \\frac{1}{C}\\sum_{k=1}^{C}\\frac{\\sum_{i}[y_{i}^{t} = k \\ and \\ y_{i}^{p} = y_{i}^{t}]}{\\sum_{i}[y_{i}^{t} = k]}\n",
    "$$\n",
    "\n",
    "Performance metrics discussed next combine the following 4 simple metrics:\n",
    "* True positives (TP) - the number of objects belonging to a positive class that were predicted as such\n",
    "* True negatives (TN) - the number of objects belonging to a negative class that were predicted as such\n",
    "* False positives (FP) - the number of objects belonging to a negative class that were predicted as belonging to a positive class\n",
    "* False negatives (FN) - the number of objects belonging to a positive class that were predicted as belonging to a negative class\n",
    "\n",
    "These 4 metrics can be combined into a single diagram called confusion matrix. Let's use the following dataset used to predict the presence (condition = 1) or absence (condition = 0) of a heart disease."
   ]
  },
  {
   "cell_type": "code",
   "execution_count": 1,
   "metadata": {},
   "outputs": [
    {
     "data": {
      "text/html": [
       "<div>\n",
       "<style scoped>\n",
       "    .dataframe tbody tr th:only-of-type {\n",
       "        vertical-align: middle;\n",
       "    }\n",
       "\n",
       "    .dataframe tbody tr th {\n",
       "        vertical-align: top;\n",
       "    }\n",
       "\n",
       "    .dataframe thead th {\n",
       "        text-align: right;\n",
       "    }\n",
       "</style>\n",
       "<table border=\"1\" class=\"dataframe\">\n",
       "  <thead>\n",
       "    <tr style=\"text-align: right;\">\n",
       "      <th></th>\n",
       "      <th>age</th>\n",
       "      <th>sex</th>\n",
       "      <th>cp</th>\n",
       "      <th>trestbps</th>\n",
       "      <th>chol</th>\n",
       "      <th>fbs</th>\n",
       "      <th>restecg</th>\n",
       "      <th>thalach</th>\n",
       "      <th>exang</th>\n",
       "      <th>oldpeak</th>\n",
       "      <th>slope</th>\n",
       "      <th>ca</th>\n",
       "      <th>thal</th>\n",
       "      <th>condition</th>\n",
       "    </tr>\n",
       "  </thead>\n",
       "  <tbody>\n",
       "    <tr>\n",
       "      <th>0</th>\n",
       "      <td>69</td>\n",
       "      <td>1</td>\n",
       "      <td>0</td>\n",
       "      <td>160</td>\n",
       "      <td>234</td>\n",
       "      <td>1</td>\n",
       "      <td>2</td>\n",
       "      <td>131</td>\n",
       "      <td>0</td>\n",
       "      <td>0.1</td>\n",
       "      <td>1</td>\n",
       "      <td>1</td>\n",
       "      <td>0</td>\n",
       "      <td>0</td>\n",
       "    </tr>\n",
       "    <tr>\n",
       "      <th>1</th>\n",
       "      <td>69</td>\n",
       "      <td>0</td>\n",
       "      <td>0</td>\n",
       "      <td>140</td>\n",
       "      <td>239</td>\n",
       "      <td>0</td>\n",
       "      <td>0</td>\n",
       "      <td>151</td>\n",
       "      <td>0</td>\n",
       "      <td>1.8</td>\n",
       "      <td>0</td>\n",
       "      <td>2</td>\n",
       "      <td>0</td>\n",
       "      <td>0</td>\n",
       "    </tr>\n",
       "    <tr>\n",
       "      <th>2</th>\n",
       "      <td>66</td>\n",
       "      <td>0</td>\n",
       "      <td>0</td>\n",
       "      <td>150</td>\n",
       "      <td>226</td>\n",
       "      <td>0</td>\n",
       "      <td>0</td>\n",
       "      <td>114</td>\n",
       "      <td>0</td>\n",
       "      <td>2.6</td>\n",
       "      <td>2</td>\n",
       "      <td>0</td>\n",
       "      <td>0</td>\n",
       "      <td>0</td>\n",
       "    </tr>\n",
       "    <tr>\n",
       "      <th>3</th>\n",
       "      <td>65</td>\n",
       "      <td>1</td>\n",
       "      <td>0</td>\n",
       "      <td>138</td>\n",
       "      <td>282</td>\n",
       "      <td>1</td>\n",
       "      <td>2</td>\n",
       "      <td>174</td>\n",
       "      <td>0</td>\n",
       "      <td>1.4</td>\n",
       "      <td>1</td>\n",
       "      <td>1</td>\n",
       "      <td>0</td>\n",
       "      <td>1</td>\n",
       "    </tr>\n",
       "    <tr>\n",
       "      <th>4</th>\n",
       "      <td>64</td>\n",
       "      <td>1</td>\n",
       "      <td>0</td>\n",
       "      <td>110</td>\n",
       "      <td>211</td>\n",
       "      <td>0</td>\n",
       "      <td>2</td>\n",
       "      <td>144</td>\n",
       "      <td>1</td>\n",
       "      <td>1.8</td>\n",
       "      <td>1</td>\n",
       "      <td>0</td>\n",
       "      <td>0</td>\n",
       "      <td>0</td>\n",
       "    </tr>\n",
       "  </tbody>\n",
       "</table>\n",
       "</div>"
      ],
      "text/plain": [
       "   age  sex  cp  trestbps  chol  fbs  restecg  thalach  exang  oldpeak  slope  \\\n",
       "0   69    1   0       160   234    1        2      131      0      0.1      1   \n",
       "1   69    0   0       140   239    0        0      151      0      1.8      0   \n",
       "2   66    0   0       150   226    0        0      114      0      2.6      2   \n",
       "3   65    1   0       138   282    1        2      174      0      1.4      1   \n",
       "4   64    1   0       110   211    0        2      144      1      1.8      1   \n",
       "\n",
       "   ca  thal  condition  \n",
       "0   1     0          0  \n",
       "1   2     0          0  \n",
       "2   0     0          0  \n",
       "3   1     0          1  \n",
       "4   0     0          0  "
      ]
     },
     "execution_count": 1,
     "metadata": {},
     "output_type": "execute_result"
    }
   ],
   "source": [
    "import pandas as pd\n",
    "import numpy as np\n",
    "import matplotlib.pyplot as plt\n",
    "\n",
    "df = pd.read_csv('heart.csv')\n",
    "df.head()"
   ]
  },
  {
   "cell_type": "code",
   "execution_count": 2,
   "metadata": {},
   "outputs": [],
   "source": [
    "from sklearn.model_selection import train_test_split\n",
    "\n",
    "X = df.drop('condition', axis=1)\n",
    "y = df.condition\n",
    "\n",
    "X_train, X_test, y_train, y_test = train_test_split(X, y, random_state=0)"
   ]
  },
  {
   "cell_type": "code",
   "execution_count": 3,
   "metadata": {},
   "outputs": [],
   "source": [
    "from sklearn.linear_model import LogisticRegression\n",
    "\n",
    "clsf = LogisticRegression(max_iter=1000)\n",
    "clsf.fit(X_train, y_train)\n",
    "\n",
    "y_pred = clsf.predict(X_test)"
   ]
  },
  {
   "cell_type": "code",
   "execution_count": 11,
   "metadata": {},
   "outputs": [
    {
     "data": {
      "image/png": "[encoded data removed]",
      "text/plain": [
       "<Figure size 200x200 with 1 Axes>"
      ]
     },
     "metadata": {},
     "output_type": "display_data"
    }
   ],
   "source": [
    "from sklearn.metrics import confusion_matrix\n",
    "confmat = confusion_matrix(y_true=y_test, y_pred=y_pred)\n",
    "fig, ax = plt.subplots(figsize=(2.0, 2.0))\n",
    "ax.matshow(confmat, cmap=plt.cm.Blues, alpha=0.3)\n",
    "for i in range(confmat.shape[0]):\n",
    "    for j in range(confmat.shape[1]):\n",
    "        ax.text(x=j, y=i, s=confmat[i, j], va='center', ha='center')\n",
    "ax.xaxis.set_ticks_position('bottom')\n",
    "ax.set_xlabel('Predicted label')\n",
    "ax.set_ylabel('True label')\n",
    "plt.show()\n"
   ]
  },
  {
   "cell_type": "markdown",
   "metadata": {},
   "source": [
    "True positive rate (TPR) and false positive rate (FPR) are performance metrics that are especially useful for imbalanced class problems. \n",
    "\n",
    "TPR provides a ratio of the correctly classified positive samples to the total number of positives: \n",
    "$$\n",
    "TPR = \\frac{TP}{P} = \\frac{TP}{TP + FN}\n",
    "$$\n",
    "\n",
    "while FPR describes a proportion of negatives that were incorrectly classified as positives:\n",
    "$$\n",
    "FPR = \\frac{FP}{N} = \\frac{FP}{FP + TN}\n",
    "$$\n",
    "\n",
    "The two other metrics that specifically focus on true positives are Precision and Recall.\n",
    "\n",
    "Precision captures the ratio of true positives to the number of samples that were classified as such:\n",
    "\n",
    "$$\n",
    "Precision = \\frac{TP}{TP + FP}\n",
    "$$\n",
    "\n",
    "while Recall quantifies the amount of true positives out of all positives in the set, which, in fact, is the same as the true positive rate:\n",
    "\n",
    "$$\n",
    "Recall = \\frac{TP}{TP + FN}\n",
    "$$\n",
    "\n",
    "Precision and Recall are usually optimized simultaneously by achieving some sort of a trade-off between them since maximizing only one of them is trivial:\n",
    "\n",
    "* To maximize Recall, predict every object as positive, ensuring that the number of false negatives is 0.\n",
    "* To maximize Precision, pick an object that has the highest confidence score and report it as positive, while classifying everything else as negative. The object with the highest confidence will most likely be of a positive class, giving us $TP = 1$, and setting everything else as negative will result in $FP = 0$\n",
    "\n",
    "A metrics that characterizes the trade-off between them is called $F_{1}$ score and is defined as the harmonic mean between Precision and Recall:\n",
    "\n",
    "$$\n",
    "F_{1} = 2\\frac{Precision \\times Recall}{Precision + Recall}\n",
    "$$\n",
    "\n",
    "The next performance metric is the area under the Receiver operating characteristic (ROC) graph. ROC graphs are useful tools to select models for classification based on their performance with respect to the FPR and TPR, which are computed by shifting the\n",
    "decision threshold of the classifier. The diagonal of a ROC graph can be interpreted as random guessing, and classification models that fall below the diagonal are considered as worse than random guessing ([Raschka, 2022](https://amzn.eu/d/8yQ55gm)).\n",
    "\n",
    "When the classifier is random, it doesn’t distinguish between positive and negative classes. The probability of a sample (regardless of its true label) receiving a score above any threshold is the same for both classes. In other words, for any chosen threshold, the fraction of the positive class that scores above the threshold (TPR) and the fraction of the negative class that scores above the threshold (FPR) will be the same, thus a straight line.\n",
    "\n",
    "The ideal—or perfect—ROC curve is characterized by a vertical segment from (0,0) to (0,1) followed by a horizontal segment from (0,1) to (1,1). A perfect model assigns higher confidence scores ($t$) to every positive instance than to any negative instance. This means there exists a threshold $\\tilde{t}$ such that:\n",
    "\n",
    "* All positives have confidence scores $t > \\tilde{t}$\n",
    "* All negatives have confidence scores $t < \\tilde{t}$\n",
    "\n",
    "When the threshold is maximum (1), no samples are predicted positive, so both TPR and FPR are 0. As we lower the threshold toward $\\tilde{t}$, we start capturing positive instances. Because no negative instance ever has a score above $\\tilde{t}$, the FPR remains at 0 while the TPR increases gradually from 0 to 1. This process creates a vertical line at FPR = 0, with TPR moving from 0 to 1.\n",
    "\n",
    "Once the threshold drops below $\\tilde{t}$, every positive is already captured (TPR remains 1). However, further decreasing the threshold begins to include negative instances, so the FPR increases from 0 to 1, which creates a horizontal line at TPR = 1.\n",
    "\n",
    "From this discussion, we deduce that the area under the ROC curve (ROC-AUC) represents the probability that the model, if given a randomly chosen positive and negative example, will rank the positive higher than the negative. The perfect model above, containing a square with sides of length 1, has an area under the curve (AUC) of 1.0. This means there is a 100% probability that the model will correctly rank a randomly chosen positive example higher than a randomly chosen negative example ([Google ML Crash Course, 2024](https://developers.google.com/machine-learning/crash-course/classification/roc-and-auc)).\n",
    "\n",
    "Continuing with the example of a heart disease, let's construct the ROC curve:"
   ]
  },
  {
   "cell_type": "code",
   "execution_count": 14,
   "metadata": {},
   "outputs": [
    {
     "data": {
      "text/plain": [
       "(0.8048780487804879, 0.11764705882352941)"
      ]
     },
     "execution_count": 14,
     "metadata": {},
     "output_type": "execute_result"
    }
   ],
   "source": [
    "def get_TP_FP_rates(y_pred, y_true):\n",
    "    y_pred = pd.Series(y_pred, index=y_true.index)\n",
    "\n",
    "    TP, FN, FP, TN = 0, 0, 0, 0\n",
    "\n",
    "    for idx in y_true.index:\n",
    "        if y_true[idx] == 1 and y_pred[idx] == 1:\n",
    "            TP += 1\n",
    "        elif y_true[idx] == 1 and y_pred[idx] == 0:\n",
    "            FN += 1\n",
    "        elif y_true[idx] == 0 and y_pred[idx] == 0:\n",
    "            TN += 1\n",
    "        elif y_true[idx] == 0 and y_pred[idx] == 1:\n",
    "            FP += 1\n",
    "\n",
    "    tpr = TP / (TP + FN)\n",
    "    fpr = FP / (FP + TN)\n",
    "\n",
    "    return tpr, fpr\n",
    "\n",
    "get_TP_FP_rates(y_pred, y_test) "
   ]
  },
  {
   "cell_type": "code",
   "execution_count": 18,
   "metadata": {},
   "outputs": [],
   "source": [
    "# For the sake of using the knowledge about regularization from the previous tutorial,\n",
    "# we will compare ROC curves for non-regularized and L2-regularized regressors\n",
    "\n",
    "norm_lr = LogisticRegression(max_iter=1200, penalty=None)\n",
    "l2_lr = LogisticRegression(max_iter=1200, penalty='l2')\n",
    "\n",
    "norm_lr.fit(X_train, y_train)\n",
    "l2_lr.fit(X_train, y_train)\n",
    "\n",
    "norm_lr_probs = norm_lr.predict_proba(X_test)[:, 1]\n",
    "l2_lr_probs = l2_lr.predict_proba(X_test)[:, 1]\n",
    "\n",
    "norm_lr_tpr = []\n",
    "norm_lr_fpr = []\n",
    "l2_lr_tpr = []\n",
    "l2_lr_fpr = []\n",
    "\n",
    "prob_threshs = np.linspace(0, 1, num=100)\n",
    "\n",
    "for thresh in prob_threshs:\n",
    "    norm_lr_pred = []\n",
    "    l2_lr_pred = []\n",
    "\n",
    "    for idx in range(len(norm_lr_probs)):\n",
    "        if norm_lr_probs[idx] > thresh:\n",
    "            norm_lr_pred.append(1)\n",
    "        else:\n",
    "            norm_lr_pred.append(0)\n",
    "        \n",
    "        if l2_lr_probs[idx] > thresh:\n",
    "            l2_lr_pred.append(1)\n",
    "        else:\n",
    "            l2_lr_pred.append(0)\n",
    "\n",
    "    norm_tpr, norm_fpr = get_TP_FP_rates(norm_lr_pred, y_test)\n",
    "    l2_tpr, l2_fpr = get_TP_FP_rates(l2_lr_pred, y_test)\n",
    "\n",
    "    norm_lr_tpr.append(norm_tpr)\n",
    "    norm_lr_fpr.append(norm_fpr)\n",
    "    l2_lr_tpr.append(l2_tpr)\n",
    "    l2_lr_fpr.append(l2_fpr)"
   ]
  },
  {
   "cell_type": "code",
   "execution_count": 19,
   "metadata": {},
   "outputs": [
    {
     "data": {
      "text/plain": [
       "<matplotlib.legend.Legend at 0x7ba05c672290>"
      ]
     },
     "execution_count": 19,
     "metadata": {},
     "output_type": "execute_result"
    },
    {
     "data": {
      "image/png": "[encoded data removed]",
      "text/plain": [
       "<Figure size 700x700 with 1 Axes>"
      ]
     },
     "metadata": {},
     "output_type": "display_data"
    }
   ],
   "source": [
    "fig, ax = plt.subplots(figsize=(7, 7))\n",
    "ax.plot(norm_lr_fpr, norm_lr_tpr, label='Normal Logistic Regression')\n",
    "ax.plot(l2_lr_fpr, l2_lr_tpr, label=\"L2-regularized Logistic Regression\")\n",
    "ax.set_xlabel('False positive rate')\n",
    "ax.set_ylabel('True positive rate')\n",
    "ax.legend()"
   ]
  },
  {
   "cell_type": "code",
   "execution_count": 17,
   "metadata": {},
   "outputs": [
    {
     "name": "stdout",
     "output_type": "stream",
     "text": [
      "ROC AUC for Normal Logistic Regression model is 0.9368723098995696\n",
      "\n",
      "ROC AUC for L2-regularized Logistic Regression model is 0.9401004304160689\n",
      "\n"
     ]
    }
   ],
   "source": [
    "from sklearn.metrics import auc\n",
    "print(f\"ROC AUC for Normal Logistic Regression model is {auc(norm_lr_fpr, norm_lr_tpr)}\\n\")\n",
    "print(f\"ROC AUC for L2-regularized Logistic Regression model is {auc(l2_lr_fpr, l2_lr_tpr)}\\n\")"
   ]
  },
  {
   "cell_type": "code",
   "execution_count": 20,
   "metadata": {},
   "outputs": [
    {
     "data": {
      "image/png": "[encoded data removed]",
      "text/plain": [
       "<Figure size 640x480 with 1 Axes>"
      ]
     },
     "metadata": {},
     "output_type": "display_data"
    },
    {
     "data": {
      "image/png": "[encoded data removed]",
      "text/plain": [
       "<Figure size 640x480 with 1 Axes>"
      ]
     },
     "metadata": {},
     "output_type": "display_data"
    }
   ],
   "source": [
    "# We can also simply use existing classes\n",
    "\n",
    "from sklearn.metrics import RocCurveDisplay\n",
    "\n",
    "norm_roc = RocCurveDisplay.from_estimator(norm_lr, X_test, y_test, name='Normal Logistic Regression')\n",
    "l2_roc = RocCurveDisplay.from_estimator(l2_lr, X_test, y_test, name='L2-regularized Logistic Regression')"
   ]
  },
  {
   "cell_type": "code",
   "execution_count": null,
   "metadata": {},
   "outputs": [],
   "source": []
  }
 ],
 "metadata": {
  "kernelspec": {
   "display_name": "sklearn-env",
   "language": "python",
   "name": "python3"
  },
  "language_info": {
   "codemirror_mode": {
    "name": "ipython",
    "version": 3
   },
   "file_extension": ".py",
   "mimetype": "text/x-python",
   "name": "python",
   "nbconvert_exporter": "python",
   "pygments_lexer": "ipython3",
   "version": "3.10.12"
  }
 },
 "nbformat": 4,
 "nbformat_minor": 2
}
